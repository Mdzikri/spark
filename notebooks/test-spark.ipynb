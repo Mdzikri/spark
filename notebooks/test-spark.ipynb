{
 "cells": [
  {
   "cell_type": "code",
   "execution_count": 1,
   "id": "5c200f92-2667-487e-ad76-fa02497eb5b3",
   "metadata": {
    "tags": []
   },
   "outputs": [],
   "source": [
    "import pyspark\n",
    "import os\n",
    "import json\n",
    "import argparse\n",
    "\n",
    "from dotenv import load_dotenv\n",
    "from pathlib import Path\n",
    "from pyspark.sql.types import StructType\n",
    "from pyspark.sql.functions import to_timestamp,col,when\n",
    "\n",
    "dotenv_path = Path('/resources/.env')\n",
    "load_dotenv(dotenv_path=dotenv_path)\n",
    "\n",
    "postgres_host = os.getenv('POSTGRES_CONTAINER_NAME')\n",
    "postgres_dw_db = os.getenv('POSTGRES_DW_DB')\n",
    "postgres_user = os.getenv('POSTGRES_USER')\n",
    "postgres_password = os.getenv('POSTGRES_PASSWORD')"
   ]
  },
  {
   "cell_type": "code",
   "execution_count": 2,
   "id": "4a86c8d5-ec4c-4eac-b144-dad154670289",
   "metadata": {
    "tags": []
   },
   "outputs": [],
   "source": [
    "sparkcontext = pyspark.SparkContext.getOrCreate(conf=(\n",
    "        pyspark\n",
    "        .SparkConf()\n",
    "        .setAppName('Dibimbing')\n",
    "        .setMaster('local')\n",
    "        .set(\"spark.jars\", \"/opt/postgresql-42.2.18.jar\")\n",
    "    ))\n",
    "sparkcontext.setLogLevel(\"WARN\")\n",
    "\n",
    "spark = pyspark.sql.SparkSession(sparkcontext.getOrCreate())\n",
    "\n",
    "# define schema for purchases dataset\n",
    "purchases_schema = (\n",
    "    \"order_id int, customer_id int, product_id int, quantity int, price float\"\n",
    ")\n"
   ]
  },
  {
   "cell_type": "code",
   "execution_count": 3,
   "id": "34b6ff71-b2ff-4c43-89f9-6d774186a6b6",
   "metadata": {
    "tags": []
   },
   "outputs": [],
   "source": [
    "\n",
    "# create purchases dataframe\n",
    "purchases_data = [\n",
    "    (101, 1, 1, 2, 19.99),\n",
    "    (102, 2, 2, 1, 9.99),\n",
    "    (103, 3, 3, 1, 15.99),\n",
    "    (104, 1, 4, 1, 5.99),\n",
    "    (105, 2, 5, 3, 12.99),\n",
    "    (106, 3, 6, 2, 9.99),\n",
    "    (107, 4, 7, 1, 11.99),\n",
    "    (108, 1, 8, 2, 14.99),\n",
    "    (109, 2, 9, 1, 9.99),\n",
    "    (110, 3, 10, 1, 19.99),\n",
    "]\n",
    "purchases_df = spark.createDataFrame(purchases_data, schema=purchases_schema)\n",
    "\n",
    "# define schema for customers dataset\n",
    "customers_schema = \"customer_id int, name string, email string\"\n",
    "\n",
    "# create customers dataframe\n",
    "customers_data = [\n",
    "    (1, \"John Doe\", \"johndoe@example.com\"),\n",
    "    (2, \"Jane Smith\", \"janesmith@example.com\"),\n",
    "    (3, \"Bob Johnson\", \"bobjohnson@example.com\"),\n",
    "    (4, \"Sue Lee\", \"suelee@example.com\"),\n",
    "]\n",
    "customers_df = spark.createDataFrame(customers_data, schema=customers_schema)\n",
    "\n",
    "# define schema for products dataset\n",
    "products_schema = \"product_id int, name string, price float\"\n",
    "\n",
    "# create products dataframe\n",
    "products_data = [\n",
    "    (1, \"Product A\", 19.99),\n",
    "    (2, \"Product B\", 9.99),\n",
    "    (3, \"Product C\", 15.99),\n",
    "    (4, \"Product D\", 5.99),\n",
    "    (5, \"Product E\", 12.99),\n",
    "    (6, \"Product F\", 9.99),\n",
    "    (7, \"Product G\", 11.99),\n",
    "    (8, \"Product H\", 14.99),\n",
    "    (9, \"Product I\", 9.99),\n",
    "    (10, \"Product J\", 19.99),\n",
    "]\n",
    "products_df = spark.createDataFrame(products_data, schema=products_schema)"
   ]
  },
  {
   "cell_type": "code",
   "execution_count": 4,
   "id": "d37a2686-a2cf-4905-b0b5-4d90af969c99",
   "metadata": {
    "tags": []
   },
   "outputs": [
    {
     "name": "stdout",
     "output_type": "stream",
     "text": [
      "+----------+-----------+--------+--------+-----+-----------+--------------------+---------+-----+\n",
      "|product_id|customer_id|order_id|quantity|price|       name|               email|     name|price|\n",
      "+----------+-----------+--------+--------+-----+-----------+--------------------+---------+-----+\n",
      "|         1|          1|     101|       2|19.99|   John Doe| johndoe@example.com|Product A|19.99|\n",
      "|         2|          2|     102|       1| 9.99| Jane Smith|janesmith@example...|Product B| 9.99|\n",
      "|         3|          3|     103|       1|15.99|Bob Johnson|bobjohnson@exampl...|Product C|15.99|\n",
      "|         4|          1|     104|       1| 5.99|   John Doe| johndoe@example.com|Product D| 5.99|\n",
      "|         5|          2|     105|       3|12.99| Jane Smith|janesmith@example...|Product E|12.99|\n",
      "|         6|          3|     106|       2| 9.99|Bob Johnson|bobjohnson@exampl...|Product F| 9.99|\n",
      "|         7|          4|     107|       1|11.99|    Sue Lee|  suelee@example.com|Product G|11.99|\n",
      "|         8|          1|     108|       2|14.99|   John Doe| johndoe@example.com|Product H|14.99|\n",
      "|         9|          2|     109|       1| 9.99| Jane Smith|janesmith@example...|Product I| 9.99|\n",
      "|        10|          3|     110|       1|19.99|Bob Johnson|bobjohnson@exampl...|Product J|19.99|\n",
      "+----------+-----------+--------+--------+-----+-----------+--------------------+---------+-----+\n",
      "\n"
     ]
    }
   ],
   "source": [
    "# set join preferences\n",
    "spark.conf.set(\"spark.sql.join.preferSortMergeJoin\", \"true\")\n",
    "spark.conf.set(\"spark.sql.autoBroadcastJoinThreshold\", \"-1\")\n",
    "\n",
    "# perform sort merge join\n",
    "merged_df = purchases_df.join(customers_df, \"customer_id\").join(\n",
    "    products_df, \"product_id\"\n",
    ")\n",
    "merged_df.show()"
   ]
  },
  {
   "cell_type": "code",
   "execution_count": 5,
   "id": "e6cde4f5-0a9a-49a8-a3b8-8ac7c04fa0dd",
   "metadata": {
    "tags": []
   },
   "outputs": [
    {
     "name": "stdout",
     "output_type": "stream",
     "text": [
      "+--------+-----------+----------+--------+--------------+-------------+--------------------+------------+-------------+\n",
      "|order_id|customer_id|product_id|quantity|purchase_price|customer_name|               email|product_name|product_price|\n",
      "+--------+-----------+----------+--------+--------------+-------------+--------------------+------------+-------------+\n",
      "|     101|          1|         1|       2|         19.99|     John Doe| johndoe@example.com|   Product A|        19.99|\n",
      "|     102|          2|         2|       1|          9.99|   Jane Smith|janesmith@example...|   Product B|         9.99|\n",
      "|     103|          3|         3|       1|         15.99|  Bob Johnson|bobjohnson@exampl...|   Product C|        15.99|\n",
      "|     104|          1|         4|       1|          5.99|     John Doe| johndoe@example.com|   Product D|         5.99|\n",
      "|     105|          2|         5|       3|         12.99|   Jane Smith|janesmith@example...|   Product E|        12.99|\n",
      "|     106|          3|         6|       2|          9.99|  Bob Johnson|bobjohnson@exampl...|   Product F|         9.99|\n",
      "|     107|          4|         7|       1|         11.99|      Sue Lee|  suelee@example.com|   Product G|        11.99|\n",
      "|     108|          1|         8|       2|         14.99|     John Doe| johndoe@example.com|   Product H|        14.99|\n",
      "|     109|          2|         9|       1|          9.99|   Jane Smith|janesmith@example...|   Product I|         9.99|\n",
      "|     110|          3|        10|       1|         19.99|  Bob Johnson|bobjohnson@exampl...|   Product J|        19.99|\n",
      "+--------+-----------+----------+--------+--------------+-------------+--------------------+------------+-------------+\n",
      "\n"
     ]
    }
   ],
   "source": [
    "merged_df = merged_df.select(\n",
    "    \"order_id\", \n",
    "    \"customer_id\", \n",
    "    \"product_id\", \n",
    "    \"quantity\", \n",
    "    purchases_df.price.alias(\"purchase_price\"), \n",
    "    customers_df.name.alias(\"customer_name\"), \n",
    "    \"email\", \n",
    "    products_df.name.alias(\"product_name\"), \n",
    "    products_df.price.alias(\"product_price\")\n",
    ")\n",
    "\n",
    "merged_df.show()\n"
   ]
  },
  {
   "cell_type": "code",
   "execution_count": 6,
   "id": "388c0539-1047-40f4-a087-b703ed9758db",
   "metadata": {
    "tags": []
   },
   "outputs": [],
   "source": [
    "jdbc_url = f'jdbc:postgresql://{postgres_host}/{postgres_dw_db}'\n",
    "jdbc_properties = {\n",
    "    'user': postgres_user,\n",
    "    'password': postgres_password,\n",
    "    'driver': 'org.postgresql.Driver',\n",
    "    'stringtype': 'unspecified'\n",
    "}"
   ]
  },
  {
   "cell_type": "code",
   "execution_count": 7,
   "id": "6202481d-126e-48ff-b650-a6e27e5f49f4",
   "metadata": {
    "tags": []
   },
   "outputs": [],
   "source": [
    "merged_df.write \\\n",
    "    .mode(\"overwrite\") \\\n",
    "    .jdbc(url=jdbc_url, table='public.real3', properties=jdbc_properties)\n",
    "\n"
   ]
  },
  {
   "cell_type": "code",
   "execution_count": 9,
   "id": "87380a5e-eacf-4d94-824f-0a088c9c8d71",
   "metadata": {
    "tags": []
   },
   "outputs": [
    {
     "name": "stdout",
     "output_type": "stream",
     "text": [
      "+--------+-----------+----------+--------+--------------+-------------+--------------------+------------+-------------+\n",
      "|order_id|customer_id|product_id|quantity|purchase_price|customer_name|               email|product_name|product_price|\n",
      "+--------+-----------+----------+--------+--------------+-------------+--------------------+------------+-------------+\n",
      "|     101|          1|         1|       2|         19.99|     John Doe| johndoe@example.com|   Product A|        19.99|\n",
      "|     102|          2|         2|       1|          9.99|   Jane Smith|janesmith@example...|   Product B|         9.99|\n",
      "|     103|          3|         3|       1|         15.99|  Bob Johnson|bobjohnson@exampl...|   Product C|        15.99|\n",
      "|     104|          1|         4|       1|          5.99|     John Doe| johndoe@example.com|   Product D|         5.99|\n",
      "|     105|          2|         5|       3|         12.99|   Jane Smith|janesmith@example...|   Product E|        12.99|\n",
      "|     106|          3|         6|       2|          9.99|  Bob Johnson|bobjohnson@exampl...|   Product F|         9.99|\n",
      "|     107|          4|         7|       1|         11.99|      Sue Lee|  suelee@example.com|   Product G|        11.99|\n",
      "|     108|          1|         8|       2|         14.99|     John Doe| johndoe@example.com|   Product H|        14.99|\n",
      "|     109|          2|         9|       1|          9.99|   Jane Smith|janesmith@example...|   Product I|         9.99|\n",
      "|     110|          3|        10|       1|         19.99|  Bob Johnson|bobjohnson@exampl...|   Product J|        19.99|\n",
      "+--------+-----------+----------+--------+--------------+-------------+--------------------+------------+-------------+\n",
      "\n"
     ]
    }
   ],
   "source": [
    "spark.read.jdbc(url=jdbc_url, table='public.real3', properties=jdbc_properties).show()\n"
   ]
  },
  {
   "cell_type": "code",
   "execution_count": null,
   "id": "4e392785-c15e-4cee-bb26-7ab1ab3ae251",
   "metadata": {},
   "outputs": [],
   "source": []
  },
  {
   "cell_type": "code",
   "execution_count": null,
   "id": "4ff8a483-6ead-43a1-a802-f15f9d212982",
   "metadata": {},
   "outputs": [],
   "source": []
  }
 ],
 "metadata": {
  "kernelspec": {
   "display_name": "Python 3 (ipykernel)",
   "language": "python",
   "name": "python3"
  },
  "language_info": {
   "codemirror_mode": {
    "name": "ipython",
    "version": 3
   },
   "file_extension": ".py",
   "mimetype": "text/x-python",
   "name": "python",
   "nbconvert_exporter": "python",
   "pygments_lexer": "ipython3",
   "version": "3.10.10"
  }
 },
 "nbformat": 4,
 "nbformat_minor": 5
}
